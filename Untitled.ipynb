{
 "cells": [
  {
   "cell_type": "code",
   "execution_count": 1,
   "metadata": {},
   "outputs": [],
   "source": [
    "from sklearn.cluster import KMeans\n",
    "import numpy as np\n",
    "import sklearn\n",
    "from munkres import Munkres\n",
    "from sklearn.metrics import confusion_matrix\n",
    "\n",
    "# The following functions relating to print_clustering_accuracy were modified from https://github.com/KlugerLab/SpectralNet\n",
    "def calculate_cost_matrix(C, n_clusters):\n",
    "   cost_matrix = np.zeros((n_clusters, n_clusters))\n",
    "\n",
    "   for j in range(n_clusters):\n",
    "      s = np.sum(C[:, j])  # number of examples in cluster i\n",
    "      for i in range(n_clusters):\n",
    "         t = C[i, j]\n",
    "         cost_matrix[j, i] = s - t\n",
    "   return cost_matrix\n",
    "\n",
    "\n",
    "def get_cluster_labels_from_indices(indices):\n",
    "   n_clusters = len(indices)\n",
    "   clusterLabels = np.zeros(n_clusters)\n",
    "   for i in range(n_clusters):\n",
    "      clusterLabels[i] = indices[i][1]\n",
    "   return clusterLabels\n",
    "\n",
    "\n",
    "def get_y_preds(cluster_assignments, y_true, n_clusters):\n",
    "   '''\n",
    "   Computes the predicted labels, where label assignments now\n",
    "   correspond to the actual labels in y_true (as estimated by Munkres)\n",
    "\n",
    "   cluster_assignments:    array of labels, outputted by kmeans\n",
    "   y_true:                 true labels\n",
    "   n_clusters:             number of clusters in the dataset\n",
    "\n",
    "   returns:    a tuple containing the accuracy and confusion matrix,\n",
    "               in that order\n",
    "   '''\n",
    "   confusion_matrix = sklearn.metrics.confusion_matrix(y_true, cluster_assignments, labels=None)\n",
    "   # compute accuracy based on optimal 1:1 assignment of clusters to labels\n",
    "   cost_matrix = calculate_cost_matrix(confusion_matrix, n_clusters)\n",
    "   indices = Munkres().compute(cost_matrix)\n",
    "   kmeans_to_true_cluster_labels = get_cluster_labels_from_indices(indices)\n",
    "   y_pred = kmeans_to_true_cluster_labels[cluster_assignments]\n",
    "   return y_pred, confusion_matrix\n",
    "\n",
    "\n",
    "def get_clustering_accuracy(cluster_assignments, y_true, n_clusters):\n",
    "   '''\n",
    "   Computes the accuracy based on the provided kmeans cluster assignments\n",
    "   and true labels, using the Munkres algorithm\n",
    "\n",
    "   cluster_assignments:    array of labels, outputted by kmeans\n",
    "   y_true:                 true labels\n",
    "   n_clusters:             number of clusters in the dataset\n",
    "\n",
    "   returns:    a tuple containing the accuracy and confusion matrix,\n",
    "               in that order\n",
    "   '''\n",
    "   y_pred, confusion_matrix = get_y_preds(cluster_assignments, y_true, n_clusters)\n",
    "   # calculate the accuracy\n",
    "   return np.mean(y_pred == y_true), confusion_matrix\n",
    "\n",
    "\n",
    "def print_clustering_accuracy(cluster_assignments, y_true, n_clusters, extra_identifier='', aug_name=\"original\"):\n",
    "   \"\"\"\n",
    "   Convenience function: prints the accuracy\n",
    "   \"\"\"\n",
    "   # get nmi score\n",
    "   y_pred, confusion_matrix = get_y_preds(cluster_assignments, y_true, n_clusters)\n",
    "   y_pred = np.squeeze(y_pred)\n",
    "   y_true = np.squeeze(y_true)\n",
    "   # get accuracy\n",
    "   clustering_accuracy, confusion_matrix = get_clustering_accuracy(cluster_assignments, y_true, n_clusters)\n",
    "   # get the confusion matrix\n",
    "\n",
    "   return clustering_accuracy\n"
   ]
  },
  {
   "cell_type": "code",
   "execution_count": 2,
   "metadata": {},
   "outputs": [
    {
     "name": "stdout",
     "output_type": "stream",
     "text": [
      "(100, 2)\n",
      "(100, 2)\n"
     ]
    },
    {
     "data": {
      "text/plain": [
       "<Figure size 640x480 with 1 Axes>"
      ]
     },
     "metadata": {},
     "output_type": "display_data"
    },
    {
     "data": {
      "text/plain": [
       "<Figure size 640x480 with 1 Axes>"
      ]
     },
     "metadata": {},
     "output_type": "display_data"
    }
   ],
   "source": [
    "from matplotlib import pyplot as plt\n",
    "\n",
    "num_clusters = 3\n",
    "\n",
    "for i in range(2):\n",
    "    choices = np.arange(num_clusters)\n",
    "    random_embeddings = np.random.uniform(0,1,(100,2))\n",
    "    targets = np.random.choice(choices, (100,))\n",
    "\n",
    "    print(random_embeddings.shape)\n",
    "    kmeans = KMeans(n_clusters=num_clusters, random_state=0).fit(random_embeddings)\n",
    "    clustering_accuracy = print_clustering_accuracy(kmeans.labels_, targets, num_clusters)\n",
    "\n",
    "    colormap = np.arange(10)\n",
    "    \n",
    "    if i == 0:\n",
    "        prev_labels = kmeans.labels_\n",
    "        prev_centers = kmeans.cluster_centers_\n",
    "\n",
    "plt.scatter(random_embeddings[:,0], random_embeddings[:,1], c=colormap[kmeans.labels_])\n",
    "plt.show()\n",
    "\n",
    "plt.scatter(random_embeddings[:,0], random_embeddings[:,1], c=colormap[prev_labels])\n",
    "plt.show()\n",
    "\n",
    "\n",
    "# print(clustering_accuracy)\n",
    "# prev_labels = kmeans.labels_\n",
    "\n",
    "# new_embeddings = np.random.uniform(0,1,(1000,10))\n",
    "# kmeans = KMeans(n_clusters=10, random_state=0).fit(new_embeddings)\n",
    "# clustering_accuracy = print_clustering_accuracy(kmeans.labels_, targets, 10)\n",
    "# clustering_accuracy"
   ]
  },
  {
   "cell_type": "code",
   "execution_count": 3,
   "metadata": {},
   "outputs": [
    {
     "data": {
      "text/plain": [
       "array([1, 2, 1, 0, 0, 1, 0, 1, 0, 1, 1, 2, 2, 1, 2, 0, 1, 2, 1, 1, 0, 2,\n",
       "       1, 1, 0, 0, 0, 2, 2, 0, 0, 0, 0, 0, 1, 2, 0, 0, 1, 2, 1, 2, 2, 2,\n",
       "       2, 0, 1, 0, 0, 1, 0, 0, 2, 0, 2, 1, 0, 0, 2, 2, 1, 1, 0, 0, 0, 2,\n",
       "       1, 1, 2, 0, 1, 1, 1, 2, 2, 0, 1, 1, 0, 1, 0, 0, 0, 0, 0, 1, 2, 0,\n",
       "       1, 2, 2, 2, 2, 1, 1, 0, 1, 2, 1, 0], dtype=int32)"
      ]
     },
     "execution_count": 3,
     "metadata": {},
     "output_type": "execute_result"
    }
   ],
   "source": [
    "kmeans.labels_"
   ]
  },
  {
   "cell_type": "code",
   "execution_count": 4,
   "metadata": {},
   "outputs": [
    {
     "data": {
      "text/plain": [
       "array([0, 0, 0, 0, 1, 2, 2, 2, 0, 0, 2, 1, 1, 2, 2, 1, 0, 0, 2, 0, 1, 0,\n",
       "       1, 1, 2, 0, 2, 1, 2, 0, 0, 0, 2, 2, 1, 0, 1, 0, 2, 1, 0, 1, 2, 1,\n",
       "       0, 0, 1, 0, 1, 2, 0, 2, 2, 0, 0, 1, 1, 0, 2, 2, 1, 0, 1, 1, 0, 1,\n",
       "       0, 0, 0, 1, 0, 0, 2, 0, 0, 0, 2, 1, 2, 0, 0, 0, 0, 0, 0, 0, 2, 1,\n",
       "       2, 2, 2, 2, 2, 0, 2, 0, 1, 1, 2, 1], dtype=int32)"
      ]
     },
     "execution_count": 4,
     "metadata": {},
     "output_type": "execute_result"
    }
   ],
   "source": [
    "prev_labels"
   ]
  },
  {
   "cell_type": "code",
   "execution_count": 5,
   "metadata": {},
   "outputs": [
    {
     "data": {
      "text/plain": [
       "array([[0.74275004, 0.62795819],\n",
       "       [0.44599219, 0.20078523],\n",
       "       [0.24491335, 0.76531003]])"
      ]
     },
     "execution_count": 5,
     "metadata": {},
     "output_type": "execute_result"
    }
   ],
   "source": [
    "kmeans.cluster_centers_"
   ]
  },
  {
   "cell_type": "code",
   "execution_count": 6,
   "metadata": {},
   "outputs": [
    {
     "data": {
      "text/plain": [
       "array([[0.2559732 , 0.38546094],\n",
       "       [0.77704926, 0.22768785],\n",
       "       [0.66375196, 0.80656566]])"
      ]
     },
     "execution_count": 6,
     "metadata": {},
     "output_type": "execute_result"
    }
   ],
   "source": [
    "prev_centers"
   ]
  },
  {
   "cell_type": "code",
   "execution_count": 7,
   "metadata": {},
   "outputs": [
    {
     "name": "stdout",
     "output_type": "stream",
     "text": [
      "[[20 14  9]\n",
      " [11  8  8]\n",
      " [ 7 12 11]]\n"
     ]
    }
   ],
   "source": [
    "n = 3\n",
    "c_matrix = confusion_matrix(prev_labels, kmeans.labels_)\n",
    "print(c_matrix)\n",
    "\n",
    "for col in range(n):\n",
    "    n = \n",
    "    \n"
   ]
  }
 ],
 "metadata": {
  "kernelspec": {
   "display_name": "Python 3",
   "language": "python",
   "name": "python3"
  },
  "language_info": {
   "codemirror_mode": {
    "name": "ipython",
    "version": 3
   },
   "file_extension": ".py",
   "mimetype": "text/x-python",
   "name": "python",
   "nbconvert_exporter": "python",
   "pygments_lexer": "ipython3",
   "version": "3.7.3"
  }
 },
 "nbformat": 4,
 "nbformat_minor": 2
}
